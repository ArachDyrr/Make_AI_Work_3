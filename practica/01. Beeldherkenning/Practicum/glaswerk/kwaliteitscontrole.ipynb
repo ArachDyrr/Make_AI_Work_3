{
 "cells": [
  {
   "attachments": {},
   "cell_type": "markdown",
   "id": "4bdbdeaa-79d8-416d-91b6-0566f3f2eaf4",
   "metadata": {
    "tags": []
   },
   "source": [
    "# Statistische kwaliteitscontrole"
   ]
  },
  {
   "attachments": {},
   "cell_type": "markdown",
   "id": "64960ef1-4dce-4f48-b69f-fc48178fdc2c",
   "metadata": {},
   "source": [
    "![quality](quality.jpg)"
   ]
  },
  {
   "cell_type": "code",
   "execution_count": 54,
   "id": "4be3c326",
   "metadata": {},
   "outputs": [],
   "source": [
    "import random"
   ]
  },
  {
   "attachments": {},
   "cell_type": "markdown",
   "id": "d1af3142-d8be-4a22-a21b-d058fae53330",
   "metadata": {},
   "source": [
    "## Situatie\n",
    "\n",
    "De firma Glow BV produceert lampen.\n",
    "\n",
    "- Bekend is dat **2%** van de productie defecten bevat\n",
    "- De dagproductie bestaat uit **75.000 lampen**"
   ]
  },
  {
   "attachments": {},
   "cell_type": "markdown",
   "id": "3ad208d3-066d-4c7e-a4c7-8456202b308d",
   "metadata": {},
   "source": [
    "## Opdracht\n",
    "\n",
    "- Onderzoek hoeveel kapotte lampen je tegenkomt als je **25 lampen** uit de totale dagproductie inspecteert\n",
    "- Voer de inspectie **10 maal** uit\n",
    "- Maak een kort overzicht van je bevindingen (in Excel, met MatplotLib of met print-statements)\n",
    "\n",
    "Begin met de analyse hieronder."
   ]
  },
  {
   "attachments": {},
   "cell_type": "markdown",
   "id": "861d9c5f-0d6d-4f1c-ba69-531d3c632cfe",
   "metadata": {},
   "source": [
    "## Stap 1: analyseren\n",
    "\n",
    "- Bedenk hoe je de productie en de productiefout simuleert (zie stap 2 voor een hint)\n",
    "- Bedenk hoe het inspectieproces verloopt\n",
    "\n",
    "**Hint**: zitten er functies in de [random module](https://www.w3schools.com/python/module_random.asp) die passen bij deze opdracht?"
   ]
  },
  {
   "attachments": {},
   "cell_type": "markdown",
   "id": "61577874-6ad0-4406-b49c-bfe83337d3d5",
   "metadata": {},
   "source": [
    "## Stap 2: schetsen\n",
    "\n",
    "Werk op basis van je analyse stapsgewijs een oplossing uit, bijvoorbeeld:"
   ]
  },
  {
   "cell_type": "code",
   "execution_count": 49,
   "id": "397f1676-3852-41ea-b367-77520ef2e2c2",
   "metadata": {},
   "outputs": [
    {
     "name": "stdout",
     "output_type": "stream",
     "text": [
      "<class 'list'>\n",
      " de gegenereerde lijst aantal_lampen bevat 249 lampen.\n"
     ]
    }
   ],
   "source": [
    "# 1. Genereer een lijst met functionele lampen (hoeveel?)\n",
    "# 98% van de lampen is functioneel dus 25*10*0.98 = 245\n",
    "aantal_functionele_lampen = (25*10)*.98\n",
    "\n",
    "\n",
    "functionele_lampen = [1]*int(aantal_functionele_lampen)\n",
    "\n",
    "\n",
    "\n",
    "\n",
    "\n",
    "# 2. Vul de lijst aan met defecte lampen (hoeveel?)\n",
    "# 2% van de lampen is defect dus 25*10*0.02 = 5 \n",
    "aantal_defecte_lampen = (25*10)*.02\n",
    "defecte_lampen = [0]*int(aantal_defecte_lampen)\n",
    "\n",
    "aantal_lampen = functionele_lampen.copy()+defecte_lampen.copy()\n",
    "print(type(aantal_lampen))\n",
    "\n",
    "\n",
    "random.shuffle(aantal_lampen)\n",
    "\n",
    "print(f' de gegenereerde lijst aantal_lampen bevat {len(aantal_lampen)} lampen.')\n",
    "\n",
    "\n",
    "# ..."
   ]
  },
  {
   "attachments": {},
   "cell_type": "markdown",
   "id": "37923139-5fbd-4575-ab9b-72ad309b50be",
   "metadata": {},
   "source": [
    "- Als bovenstaande niet lukt dan zal het implementeren ook niet lukken...\n",
    "- Vraag om hulp, maar oefen eerst met het uitwerken van een oplossing"
   ]
  },
  {
   "attachments": {},
   "cell_type": "markdown",
   "id": "03440dea-9b95-4b92-9d89-8385dbad8ebe",
   "metadata": {},
   "source": [
    "## Stap 3: implementeren\n",
    "\n",
    "- Werk de bovenstaande schets stap voor stap uit\n",
    "- Begin pas met implementeren als de schets klopt"
   ]
  },
  {
   "cell_type": "code",
   "execution_count": 104,
   "id": "ac97b428-2e7f-4088-a0c1-a83f619802e0",
   "metadata": {},
   "outputs": [],
   "source": [
    "# Stappenplan schets\n",
    "# definieer een functie controleer_lampen om te controlleren hoeveel lampen er in een set defect zijn. \n",
    "# loop over de lijst met lampen en controlleer hoeveel lampen er in een set van 25 lampen defect zijn. \n",
    "# zet het aantal defecte lampen in een lijst. \n",
    "# voer 10 controle rondes uit.\n",
    "# print het aantal defecte lampen per controle ronde.\n",
    "\n",
    "\n",
    "\n",
    "\n",
    "# Implementatie\n",
    "\n",
    "def controleer_lampen(lijst):\n",
    "    aantal_defecte_lampen = 0\n",
    "    for lamp in lijst:\n",
    "        if lamp == 0:\n",
    "            aantal_defecte_lampen += 1\n",
    "    return aantal_defecte_lampen\n",
    "\n",
    "def controleer_lampen_batches(input_lijst, batch_size=25, controleer_lampen=controleer_lampen):\n",
    "    controle_lijst = []\n",
    "    for i in range(0, len(input_lijst), batch_size):\n",
    "        controle_lijst.append(controleer_lampen(input_lijst[i:i+batch_size]))\n",
    "\n",
    "    percentage = f'{100*sum(controle_lijst)/len(input_lijst)}%'\n",
    "\n",
    "    return percentage # , controle_lijst\n",
    "\n",
    "# definieer een functie om 25 willikeurige lampen te selecteren uit de lijst met lampen. Deze in een nieuwe lijst test_lijst te zetten en deze uit de oude lijst te verwijderen.\n",
    "def selecteer_willekeurige_lampen(lijst, aantal=250):\n",
    "    test_lijst = []\n",
    "    for i in range(aantal):\n",
    "        lamp = random.choice(lijst)\n",
    "        test_lijst.append(lamp)\n",
    "        lijst.remove(lamp)\n",
    "    return test_lijst, lijst    \n",
    "\n",
    "\n",
    "\n",
    "\n"
   ]
  },
  {
   "cell_type": "code",
   "execution_count": 269,
   "id": "dc869740",
   "metadata": {},
   "outputs": [
    {
     "name": "stdout",
     "output_type": "stream",
     "text": [
      "<class 'list'>\n",
      " de dag productie bevat 10000 lampen.\n",
      " de testset bevat 750 lampen.\n",
      " de eerste controle ronde bevat 1.0666666666666667% defecte lampen.\n"
     ]
    }
   ],
   "source": [
    "# genreer een set van 10000 lampen die elk een kans van 2% hebben om defect te zijn. de lijst zal dag_productie heten.\n",
    "dag_productie = random.choices([0,1], weights=[0.02, 0.98], k=10000) \n",
    "\n",
    "print(type(dag_productie))\n",
    "print(f' de dag productie bevat {len(dag_productie)} lampen.')\n",
    "\n",
    "testset =  selecteer_willekeurige_lampen(dag_productie,750)[0]\n",
    "print(f' de testset bevat {len(testset)} lampen.')\n",
    "\n",
    "first_controle = controleer_lampen_batches(testset)\n",
    "\n",
    "print(f' de eerste controle ronde bevat {first_controle} defecte lampen.')"
   ]
  },
  {
   "attachments": {},
   "cell_type": "markdown",
   "id": "5000db0d-561e-4cd8-9870-201de800bc5a",
   "metadata": {},
   "source": [
    "## Stap 4: reflecteren\n",
    "\n",
    "1. (a) Komt het gemiddelde van je inspectie overeen met de daadwerkelijke productiefout?\n",
    "\n",
    "   (b) Zo nee: hoeveel inspecties moet je dan doen om in de buurt te komen van de 2%?\n",
    "\n",
    "2. (a) Is het verstandig om kosten te drukken en maar 5 inspecties uit te voeren?\n",
    "\n",
    "   (b) Of per inspectie slechts 15 lampen te onderzoeken?\n",
    "\n",
    "3. (a) Maakt het uit of je de lampen na inspectie terugstopt in de batch?\n",
    "\n",
    "   (b) Kun je dit aantonen met je simulatie?"
   ]
  },
  {
   "attachments": {},
   "cell_type": "markdown",
   "id": "02ca0d82-1022-497f-b570-9e6126f95e4f",
   "metadata": {
    "tags": []
   },
   "source": [
    "# Bewijs / uitwerkingen\n",
    "\n",
    "1.a niet helemaal tenzij ik een set maak die even groot is als mijn test set en zorg dat er 2% defect is.\n",
    "1.b hoe groter het aantal hoe kleiner de variatie in het % \n",
    "2.a licht eraan wat meer kost, een hoger percentage kapotte lampen bij je klant of hogere productie kosten.\n",
    "2.b met een fot percentage van 2% lijkt met me handiger om meer lampoen ipv minder lampen te onderzoeken. ik kan me wel voorstellen dat je een paar lampen uit het begin en het einde in elke productie wil hebben waarbij je de eerste uit de batch gata getsten terwijl die batch draait.\n",
    "3.a dit is relevanteer bij een kleine testset. daar je dan het risico loopt om de zelfde lamp keer op keer te testen. \n",
    "3.b bijn simulatie is gebouwd om dit niet te doen. als ik meer tijd zou hebben zou ik haar testen met een kleine set. waarbij de geteste lampen niet uit de test set zouden worden gehaald.  \n",
    "\n",
    "\n",
    "# ..."
   ]
  },
  {
   "attachments": {},
   "cell_type": "markdown",
   "id": "324c2c27-f28e-4da5-8d5e-6f06962d04aa",
   "metadata": {},
   "source": [
    "## Extra: variatie in productiefout\n",
    "\n",
    "De aanname is dat 2% van de productie defecten bevat, maar dit is slechts een **gemiddelde** is. Soms is het 3% dan weer 2% of zelfs 5%. De productiefout hangt namelijk weer af van de productiefout in de onderdelen waaruit de lamp is opgebouwd.\n",
    "\n",
    "- Breid je model uit waarin je de productiefout laat varieren met 1%\n",
    "- Maak dit voor de inspectie uit?"
   ]
  },
  {
   "cell_type": "code",
   "execution_count": 341,
   "id": "061c9628-0244-4787-930e-0272c943caab",
   "metadata": {
    "tags": []
   },
   "outputs": [
    {
     "name": "stdout",
     "output_type": "stream",
     "text": [
      "<class 'list'>\n",
      " de dag productie bevat 100000 lampen.\n",
      " de testset bevat 25000 lampen.\n",
      " de eerste controle ronde bevat 1.112% defecte lampen.\n"
     ]
    }
   ],
   "source": [
    "# Uitbreiding\n",
    "# gerereer gewichten die de kans op een defecte lamp bepalen.\n",
    "fout_percentage = random.uniform(0.01, 0.03)\n",
    "gewichten = [fout_percentage, 1-fout_percentage]\n",
    "\n",
    "# genereer de dag productie met de nieuwe gewichten.\n",
    "dag_productie = random.choices([0,1], weights=gewichten, k=100000) \n",
    "\n",
    "print(type(dag_productie))\n",
    "print(f' de dag productie bevat {len(dag_productie)} lampen.')\n",
    "\n",
    "testset =  selecteer_willekeurige_lampen(dag_productie,250)[0]\n",
    "print(f' de testset bevat {len(testset)} lampen.')\n",
    "\n",
    "first_controle = controleer_lampen_batches(testset)\n",
    "\n",
    "print(f' de eerste controle ronde bevat {first_controle} defecte lampen.')"
   ]
  },
  {
   "attachments": {},
   "cell_type": "markdown",
   "id": "a5de8e30-2e28-4896-98af-be1471aecaf5",
   "metadata": {},
   "source": [
    "## Extra: Bayesiaanse statistiek\n",
    "\n",
    "In de bijlage vind je een csv bestand met daarin een onbekend aantal lampen waarvan er een aantal stuk zijn.\n",
    "\n",
    "1. Lees het bestand in en achterhaal met een aantal inspecties wat het percentage defecte lampen moet zijn\n",
    "\n",
    "2. Controleer daarna of dit juist was door de totale lijst met lampen te analyseren\n",
    "\n",
    "Bovenstaande is een voorbeeld van Baysiaanse statistiek."
   ]
  }
 ],
 "metadata": {
  "kernelspec": {
   "display_name": "Python 3 (ipykernel)",
   "language": "python",
   "name": "python3"
  },
  "language_info": {
   "codemirror_mode": {
    "name": "ipython",
    "version": 3
   },
   "file_extension": ".py",
   "mimetype": "text/x-python",
   "name": "python",
   "nbconvert_exporter": "python",
   "pygments_lexer": "ipython3",
   "version": "3.10.9"
  },
  "toc-showcode": false,
  "toc-showmarkdowntxt": false
 },
 "nbformat": 4,
 "nbformat_minor": 5
}
