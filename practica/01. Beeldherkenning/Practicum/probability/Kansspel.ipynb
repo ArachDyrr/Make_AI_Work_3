{
 "cells": [
  {
   "cell_type": "code",
   "execution_count": 1,
   "metadata": {},
   "outputs": [],
   "source": [
    "from tqdm import tqdm\n",
    "import random"
   ]
  },
  {
   "cell_type": "code",
   "execution_count": 2,
   "metadata": {},
   "outputs": [],
   "source": [
    "def spin():\n",
    "    return random.randint(0, 1)"
   ]
  },
  {
   "cell_type": "code",
   "execution_count": 10,
   "metadata": {},
   "outputs": [],
   "source": [
    "def spin():\n",
    "    result = random.randint(0, 38)\n",
    "    if result < 19:\n",
    "        return 0\n",
    "    else:\n",
    "        return 1"
   ]
  },
  {
   "cell_type": "code",
   "execution_count": 11,
   "metadata": {},
   "outputs": [],
   "source": [
    "def spinner(n):\n",
    "    return [spin() for _ in range(n)]   "
   ]
  },
  {
   "cell_type": "code",
   "execution_count": 12,
   "metadata": {},
   "outputs": [
    {
     "data": {
      "text/plain": [
       "[0, 0, 0, 1, 0, 1, 0, 1, 1, 1]"
      ]
     },
     "execution_count": 12,
     "metadata": {},
     "output_type": "execute_result"
    }
   ],
   "source": [
    "spinner(10)"
   ]
  },
  {
   "cell_type": "code",
   "execution_count": 13,
   "metadata": {},
   "outputs": [],
   "source": [
    "def spel_resultaat(inzet, inleg, max_rondes=100000000000, factor=2):\n",
    "    ronde = 0\n",
    "    winst = 0\n",
    "    winst_max  = 0\n",
    "\n",
    "    while inleg >= inzet:\n",
    "        if ronde > (max_rondes-1):\n",
    "            break \n",
    "        ronde += 1\n",
    "        if spin() == 1:\n",
    "            inleg += inzet*(factor-1)\n",
    "            if inleg > winst:\n",
    "                winst_max = inleg\n",
    "        else:\n",
    "            inleg -= inzet*(factor-1)\n",
    "    \n",
    "    return [winst_max, winst, ronde]\n",
    "\n",
    "\n",
    "\n"
   ]
  },
  {
   "cell_type": "code",
   "execution_count": 14,
   "metadata": {},
   "outputs": [
    {
     "data": {
      "text/plain": [
       "list"
      ]
     },
     "execution_count": 14,
     "metadata": {},
     "output_type": "execute_result"
    }
   ],
   "source": [
    "type(spel_resultaat(10, 40) )\n"
   ]
  },
  {
   "cell_type": "code",
   "execution_count": 21,
   "metadata": {},
   "outputs": [],
   "source": [
    "inleg = 40\n",
    "inzet = 10  \n",
    "factor = 2\n",
    "max_rondes =20\n",
    "# max_rondes = 'infinite'   "
   ]
  },
  {
   "cell_type": "code",
   "execution_count": 18,
   "metadata": {},
   "outputs": [
    {
     "name": "stderr",
     "output_type": "stream",
     "text": [
      "100%|██████████| 3000/3000 [00:00<00:00, 203722.37it/s]\n"
     ]
    }
   ],
   "source": [
    "hoevaak = 3000\n",
    "resultaten = []\n",
    "\n",
    "# runs spel_resultaat 10 times\n",
    "\n",
    "\n",
    "for i in tqdm(range(hoevaak)):\n",
    "    resultaten.append(spel_resultaat(inzet, inleg, max_rondes, factor))\n",
    "\n"
   ]
  },
  {
   "cell_type": "code",
   "execution_count": 22,
   "metadata": {},
   "outputs": [
    {
     "name": "stdout",
     "output_type": "stream",
     "text": [
      "de mean is 49.89\n",
      "de mean is 0\n",
      "de mean is 4.94\n",
      "de modus is 50\n",
      "de modus is 0\n",
      "de modus is 5\n"
     ]
    },
    {
     "data": {
      "text/plain": [
       "2999"
      ]
     },
     "execution_count": 22,
     "metadata": {},
     "output_type": "execute_result"
    }
   ],
   "source": [
    "\n",
    "# # print(resultaten)\n",
    "\n",
    "# # laat wat het gemiddelde is van de resultaten zien\n",
    "# print(f'het gemiddelde is: {sum([x[0] for x in resultaten])/len(resultaten)}')\n",
    "\n",
    "# # laat zien hoeveel rondes het gemiddeld duurt\n",
    "# print(f'gemiddeld aantal rondes {sum([x[1] for x in resultaten])/len(resultaten)}')\n",
    "\n",
    "# laat zien hoeveel rondes het gemiddeld duurt\n",
    "from statistics import mean\n",
    "print(f'de mean is {mean([x[0] for x in resultaten])}')\n",
    "print(f'de mean is {mean([x[1] for x in resultaten])}')\n",
    "print(f'de mean is {mean([x[2] for x in resultaten])}')\n",
    "\n",
    "# laat de modus zien van de resultaten\n",
    "from statistics import mode\n",
    "print(f'de modus is {mode([x[0] for x in resultaten])}')\n",
    "print(f'de modus is {mode([x[1] for x in resultaten])}')\n",
    "print(f'de modus is {mode([x[2] for x in resultaten])}')\n",
    "      \n",
    "# # laat de mediaan zien van de resultaten\n",
    "# from statistics import median\n",
    "# print(f'de mediaan is {median([x[0] for x in resultaten])}')\n",
    "# print(f'de mediaan is {median([x[1] for x in resultaten])}')\n",
    "\n",
    "# # laat de standaard deviatie zien van de resultaten\n",
    "# from statistics import stdev\n",
    "# print(f'de standaard deviatie is {round(stdev([x[0] for x in resultaten]),2)}')\n",
    "# print(f'de standaard deviatie is {round(stdev([x[1] for x in resultaten]),2)}')\n",
    "\n",
    "# # # laat de variantie zien van de resultaten\n",
    "# # from statistics import variance\n",
    "# # print(f'de variantie is {round(variance([x[0] for x in resultaten]),2)}')\n",
    "# # print(f'de variantie is {round(variance([x[1] for x in resultaten]),2)}')\n",
    "\n",
    "# # laat de range zien van de resultaten  \n",
    "# print(f'de range is {max([x[0] for x in resultaten]) - min([x[0] for x in resultaten])}')\n",
    "# print(f'de range is {max([x[1] for x in resultaten]) - min([x[1] for x in resultaten])}')\n",
    "\n",
    "\n",
    "\n",
    "\n",
    "\n",
    "i\n",
    "\n",
    "\n",
    "\n",
    "# plot hoevaak een bepaalde winst voorkomt \n",
    "\n"
   ]
  }
 ],
 "metadata": {
  "kernelspec": {
   "display_name": "miw2",
   "language": "python",
   "name": "python3"
  },
  "language_info": {
   "codemirror_mode": {
    "name": "ipython",
    "version": 3
   },
   "file_extension": ".py",
   "mimetype": "text/x-python",
   "name": "python",
   "nbconvert_exporter": "python",
   "pygments_lexer": "ipython3",
   "version": "3.10.9"
  },
  "orig_nbformat": 4
 },
 "nbformat": 4,
 "nbformat_minor": 2
}
