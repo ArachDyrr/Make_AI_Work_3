{
 "cells": [
  {
   "attachments": {},
   "cell_type": "markdown",
   "id": "818a1af7-9708-4bae-92fe-fa36b678d2be",
   "metadata": {},
   "source": [
    "<a href=\"https://it-omscholing.nl/locaties/hogeschool-rotterdam/\">\n",
    "<div>\n",
    "<a><img src='../../../pics/banner.PNG'/></a>\n",
    "</div>\n",
    "<div>\n",
    "<a href=''><img src='../../../pics/miw.PNG'/></a>\n",
    "<em>Author: Jeroen Boogaard</em>\n",
    "</div>\n",
    "</a>"
   ]
  },
  {
   "attachments": {},
   "cell_type": "markdown",
   "id": "a9ff9227-1da2-489e-a4b4-d661d44ce68f",
   "metadata": {},
   "source": [
    "<h1>Practicum Basis Statistiek</h1>"
   ]
  },
  {
   "attachments": {},
   "cell_type": "markdown",
   "id": "0437b096-4322-4054-a14f-b26c9a12999d",
   "metadata": {},
   "source": [
    "<h2>Dobbelstenen</h2>"
   ]
  },
  {
   "attachments": {},
   "cell_type": "markdown",
   "id": "67fc0ddf-6732-496e-a406-77e1776d7359",
   "metadata": {},
   "source": [
    "<div>\n",
    "<img src='../../../pics/dobbelsteen.jpg'/>    \n",
    "</div>    "
   ]
  },
  {
   "cell_type": "code",
   "execution_count": 2,
   "id": "84d02a33",
   "metadata": {},
   "outputs": [],
   "source": [
    "from dobbelsteen import Dobbelsteen\n",
    "from matplotlib_venn import venn2\n",
    "from matplotlib_venn import venn3\n",
    "import matplotlib.pyplot as plot\n",
    "import numpy as np\n",
    "import pandas as pd\n",
    "import pylab as plt\n",
    "import seaborn as sns\n",
    "import statistics as st"
   ]
  },
  {
   "attachments": {},
   "cell_type": "markdown",
   "id": "51aae3d0-f644-4552-870c-029b41f24559",
   "metadata": {},
   "source": [
    "<h2>Kansrekenen</h2>"
   ]
  },
  {
   "cell_type": "code",
   "execution_count": 3,
   "id": "18c0e9c1-d82a-46ee-b6fd-8af1b9f6c81f",
   "metadata": {},
   "outputs": [
    {
     "name": "stdout",
     "output_type": "stream",
     "text": [
      "┌─────────┐\n",
      "│         │\n",
      "│    ●    │\n",
      "│         │\n",
      "└─────────┘\n",
      "\n"
     ]
    }
   ],
   "source": [
    "d = Dobbelsteen()\n",
    "print(d.show())"
   ]
  },
  {
   "attachments": {},
   "cell_type": "markdown",
   "id": "170099a3-4baf-4d2b-9ee2-ba934e368432",
   "metadata": {},
   "source": [
    "<h3>Uitkomstruimte</h3>"
   ]
  },
  {
   "cell_type": "code",
   "execution_count": 4,
   "id": "efdbb9fe-07af-460f-81bb-868d15c2c64e",
   "metadata": {},
   "outputs": [
    {
     "name": "stdout",
     "output_type": "stream",
     "text": [
      "{1, 2, 3, 4, 5, 6}\n"
     ]
    }
   ],
   "source": [
    "print(d.values)  "
   ]
  },
  {
   "attachments": {},
   "cell_type": "markdown",
   "id": "8180133d-56ca-4366-8c0f-bfc87b73cbc5",
   "metadata": {},
   "source": [
    "<h3>Kansfunctie</h3>"
   ]
  },
  {
   "cell_type": "code",
   "execution_count": 5,
   "id": "c652271d-7f13-493e-a14e-d70a21e2de39",
   "metadata": {},
   "outputs": [
    {
     "name": "stdout",
     "output_type": "stream",
     "text": [
      "p(1) = 1/6\n",
      "p(2) = 1/6\n",
      "p(3) = 1/6\n",
      "p(4) = 1/6\n",
      "p(5) = 1/6\n",
      "p(6) = 1/6\n"
     ]
    }
   ],
   "source": [
    "p = \"1/6\"\n",
    "prob = {element:p for element in d.getList()}\n",
    "\n",
    "for i in d.getList():\n",
    "    print( f\"p({i}) = {prob.get(i)}\" )"
   ]
  },
  {
   "attachments": {},
   "cell_type": "markdown",
   "id": "80c83e13-30fe-40e2-b7a6-d58e9dfebdd1",
   "metadata": {},
   "source": [
    "<h2>Twee dobbelstenen</h2>"
   ]
  },
  {
   "cell_type": "code",
   "execution_count": 6,
   "id": "03ff353d-e88e-416e-bd64-5ab2b47c8e84",
   "metadata": {},
   "outputs": [
    {
     "name": "stdout",
     "output_type": "stream",
     "text": [
      "┌─────────┐\n",
      "│  ●      │\n",
      "│    ●    │\n",
      "│      ●  │\n",
      "└─────────┘\n",
      "┌─────────┐\n",
      "│  ●      │\n",
      "│    ●    │\n",
      "│      ●  │\n",
      "└─────────┘\n"
     ]
    }
   ],
   "source": [
    "d0 = Dobbelsteen()\n",
    "d1 = Dobbelsteen()\n",
    "print( f\"{d0.show()}\\n{d1.show()}\" )"
   ]
  },
  {
   "attachments": {},
   "cell_type": "markdown",
   "id": "efa076ad-8f22-4db5-a835-c42599369263",
   "metadata": {},
   "source": [
    "<h3>Uitkomstruimte</h3>"
   ]
  },
  {
   "cell_type": "code",
   "execution_count": 7,
   "id": "0ee9d6ad-5b3a-418b-bd41-84ff8d7a50a0",
   "metadata": {},
   "outputs": [
    {
     "data": {
      "image/png": "[encoded data removed]",
      "text/plain": [
       "<Figure size 640x480 with 1 Axes>"
      ]
     },
     "metadata": {},
     "output_type": "display_data"
    }
   ],
   "source": [
    "v = venn2(subsets=(1,1,0,1,0))\n",
    "uitkomsten = \"1 2 3 4 5 6\"\n",
    "v.get_label_by_id('100').set_text(uitkomsten)\n",
    "v.get_label_by_id('010').set_text(uitkomsten)\n",
    "plt.title(\"Twee dobbelstenen\")\n",
    "plt.show()"
   ]
  },
  {
   "attachments": {},
   "cell_type": "markdown",
   "id": "cd3605f8-a3ae-4c51-89f1-9121efb85f40",
   "metadata": {},
   "source": [
    "<h3>Exercise 1</h3>"
   ]
  },
  {
   "attachments": {},
   "cell_type": "markdown",
   "id": "4ad197b3-806e-4fdf-8403-cc63a2fc49b6",
   "metadata": {},
   "source": [
    "<h4>Gegeven</h4>\n",
    "<p>Dobbelstenen d0 en d1</p>"
   ]
  },
  {
   "attachments": {},
   "cell_type": "markdown",
   "id": "99703aeb-ae1d-4662-9ff0-c77bb458dfcf",
   "metadata": {},
   "source": [
    "<h4>Gevraagd</h4>\n",
    "<p>\n",
    "    Maak een <u>set</u> van de <u>gecombineerde uitkomstruimte</u> <i>dice</i> die ontstaat door dobbelstenen d0 en d1 tegelijkertijd te werpen\n",
    "</p>"
   ]
  },
  {
   "attachments": {},
   "cell_type": "markdown",
   "id": "cc81594b-54a3-4c6f-82df-03fed6ad4b62",
   "metadata": {},
   "source": [
    "<h4>Oplossing</h4>"
   ]
  },
  {
   "cell_type": "code",
   "execution_count": 8,
   "id": "7d36cbcd-ff5a-4b23-a6d6-d37d736ab4df",
   "metadata": {
    "tags": []
   },
   "outputs": [
    {
     "name": "stdout",
     "output_type": "stream",
     "text": [
      "2 3 4 5 6 7 \n",
      "3 4 5 6 7 8 \n",
      "4 5 6 7 8 9 \n",
      "5 6 7 8 9 10 \n",
      "6 7 8 9 10 11 \n",
      "7 8 9 10 11 12 \n",
      "[[2, 3, 4, 5, 6, 7], [3, 4, 5, 6, 7, 8], [4, 5, 6, 7, 8, 9], [5, 6, 7, 8, 9, 10], [6, 7, 8, 9, 10, 11], [7, 8, 9, 10, 11, 12]]\n",
      "2 3 4 5 6 7\n",
      "3 4 5 6 7 8\n",
      "4 5 6 7 8 9\n",
      "5 6 7 8 9 10\n",
      "6 7 8 9 10 11\n",
      "7 8 9 10 11 12\n",
      "{2, 3, 4, 5, 6, 7, 8, 9, 10, 11, 12}\n"
     ]
    },
    {
     "data": {
      "image/png": "[encoded data removed]",
      "text/plain": [
       "<Figure size 640x480 with 1 Axes>"
      ]
     },
     "metadata": {},
     "output_type": "display_data"
    }
   ],
   "source": [
    "# Oplossing\n",
    "d0_list=d0.getList()\n",
    "d1_list=d1.getList()\n",
    "# make a list of lists with all possible outcomes loop over d0_list and for each element in d0_list loop over d1_list and add the sum of the two elements to the list\n",
    "\n",
    "for item_d0 in d0_list:\n",
    "    for item_d1 in d1_list:\n",
    "        print(item_d0 + item_d1, end=' ')  # end=' ' zorgt ervoor dat de print niet op een nieuwe regel komt\n",
    "    print()\n",
    "\n",
    "som_uitkomsten = []\n",
    "for item_d1 in d1_list:\n",
    "    new_list = []\n",
    "    for item_d0 in d0_list:\n",
    "        new_item = item_d0 + item_d1\n",
    "        new_list.append(new_item)\n",
    "    som_uitkomsten.append(new_list)\n",
    "\n",
    "print(som_uitkomsten)\n",
    "\n",
    "for rij in som_uitkomsten:\n",
    "    print(' '.join(str(item) for item in rij))\n",
    "\n",
    "# make a set of all possible outcomes\n",
    "som_uitkomsten_set = set()\n",
    "for item_d0 in d0_list:\n",
    "    for item_d1 in d1_list:\n",
    "        som_uitkomsten_set.add(item_d0 + item_d1)\n",
    "print(som_uitkomsten_set)\n",
    "\n",
    "\n",
    "v = venn3(subsets=(1,1,0,1,0,0,0))\n",
    "uitkomsten = \"1 2 3 4 5 6\"\n",
    "som_uitkomsten_array = np.array([2,4,3,4,5,6])\n",
    "v.get_label_by_id('100').set_text(d0_list)\n",
    "v.get_label_by_id('010').set_text(d1_list)\n",
    "v.get_label_by_id('001').set_text('failed to fit this in a box \\n see above')\n",
    "plt.title(\"Twee dobbelstenen\")\n",
    "plt.show()"
   ]
  },
  {
   "attachments": {},
   "cell_type": "markdown",
   "id": "2e6623ca-8e7c-4168-acc8-91a91ae23297",
   "metadata": {},
   "source": [
    "<h3>Exercise 2</h3>"
   ]
  },
  {
   "attachments": {},
   "cell_type": "markdown",
   "id": "0d6f96b6-34d0-400a-8cf3-b62fbf16cb64",
   "metadata": {},
   "source": [
    "<h4>Gegeven</h4>\n",
    "<p>Dobbelstenen <i>d0</i> en <i>d1</i> en hun gecombineerde uitkomstruimte <i>dice</i></p>"
   ]
  },
  {
   "attachments": {},
   "cell_type": "markdown",
   "id": "9f245fb3-2a56-44c5-b883-76cef863aba0",
   "metadata": {},
   "source": [
    "<h3>Gevraagd</h3>\n",
    "<p>\n",
    "    Geef de <u>kansmassa-functie</u> van de som van het aantal ogen van <i>d0</i> en <i>d1</i><br>\n",
    "    <strong>TIP</strong>: Maak eerst een dictionary met daarin per alle uitkomsten\n",
    "</p>"
   ]
  },
  {
   "attachments": {},
   "cell_type": "markdown",
   "id": "7810f233-a09a-4636-9b17-15fa90aad0d2",
   "metadata": {},
   "source": [
    "<h4>Oplossing</h4>"
   ]
  },
  {
   "cell_type": "code",
   "execution_count": 9,
   "id": "b7c6945d-683b-4049-ab45-973d13fea8ba",
   "metadata": {},
   "outputs": [
    {
     "name": "stdout",
     "output_type": "stream",
     "text": [
      "{2, 3, 4, 5, 6, 7, 8, 9, 10, 11, 12}\n",
      "the occurence per possibility is {2: 1, 3: 2, 4: 3, 5: 4, 6: 5, 7: 6, 8: 5, 9: 4, 10: 3, 11: 2, 12: 1}\n",
      "the probability per possibility is {2: 2.78, 3: 5.56, 4: 8.33, 5: 11.11, 6: 13.89, 7: 16.67, 8: 13.89, 9: 11.11, 10: 8.33, 11: 5.56, 12: 2.78}\n"
     ]
    }
   ],
   "source": [
    "# Oplossing\n",
    "\n",
    "# definieer dice\n",
    "dice = som_uitkomsten_set\n",
    "\n",
    "print (dice)\n",
    "# kijk hoevaak elk element in dice voor komt in som_uitkomsten\n",
    "occurence = {element:0 for element in dice}\n",
    "for rij in som_uitkomsten:\n",
    "    for item in rij:\n",
    "        occurence[item] += 1\n",
    "print(f'the occurence per possibility is {occurence}')\n",
    "\n",
    "# bereken de kans voor elk element in dice\n",
    "prob = {element:0 for element in dice}\n",
    "for element in dice:\n",
    "    prob[element] = round(100*occurence[element]/36,2)\n",
    "print(f'the probability per possibility is {prob}')\n",
    "\n",
    "\n",
    "\n",
    "\n",
    "\n"
   ]
  },
  {
   "attachments": {},
   "cell_type": "markdown",
   "id": "c878858c-a5c8-4c52-b093-13b46ae78b7d",
   "metadata": {},
   "source": [
    "<h3>Metrics</h3>"
   ]
  },
  {
   "attachments": {},
   "cell_type": "markdown",
   "id": "dce2fe5f-9c9d-49e8-a03b-28d0eedc368f",
   "metadata": {},
   "source": [
    "**Gebruik een numpy array voor het bepalen van centrum-maten**"
   ]
  },
  {
   "attachments": {},
   "cell_type": "markdown",
   "id": "e82be685-7f00-4b64-8b4a-e47c9b584e0b",
   "metadata": {},
   "source": [
    "<h3>Exercise 3a</h3>"
   ]
  },
  {
   "attachments": {},
   "cell_type": "markdown",
   "id": "0a1f3850-fe36-4b18-b5f4-d3887c8a9341",
   "metadata": {},
   "source": [
    "<h4>Gegeven</h4>\n",
    "<p>De class Dobbelsteen in de module dobbelsteen.py</p>"
   ]
  },
  {
   "cell_type": "code",
   "execution_count": 10,
   "id": "619543c6-d4ee-4352-9a6b-dc77ddf660de",
   "metadata": {},
   "outputs": [],
   "source": [
    "d2 = Dobbelsteen()\n",
    "d3 = Dobbelsteen()\n",
    "histD2 = np.empty(1000)\n",
    "histD3 = np.empty(1000)"
   ]
  },
  {
   "attachments": {},
   "cell_type": "markdown",
   "id": "2c2b9484-ff4a-4634-9e95-09bc9a808c51",
   "metadata": {
    "tags": []
   },
   "source": [
    "<h4>Gevraagd</h4>\n",
    "<p>\n",
    "    Voeg het volgende toe aan class Dobbelsteen:\n",
    "    <ol>\n",
    "        <li>list variabele <u>history</u> waaraan de uitkomst van iedere worp wordt toegevoegd</li>\n",
    "        <li>methode <u>getHistory(self)</u> die de waarde van variabele <u>history</u> geeft als <u>numpy-array</u></li>\n",
    "    <li>Schrijf in de cell hieronder een loop die 1000 keer zowel <i>d2</i> als <i>d3</i> werpt en sla de uitkomsten op in rescpectievelijk <i>histD2</i> en <i>histD3</i>. Maak daarbij gebruik van de methode <u>getHistory()</u> uit de vorige stap</li>\n",
    "    </ol>\n",
    " </p>  "
   ]
  },
  {
   "cell_type": "code",
   "execution_count": null,
   "id": "377e94e7",
   "metadata": {},
   "outputs": [],
   "source": [
    "# expand to see the changed Dobbelsteen class\n",
    "\n",
    "# import numpy as np\n",
    "# import random\n",
    "\n",
    "# class Dobbelsteen:\n",
    "    \n",
    "#     def __init__(self):\n",
    "#         self.values = set(range(1, 7))  \n",
    "#         self.history = []  # Create a list to store roll history\n",
    "#         self.roll()\n",
    "        \n",
    "#         # https://realpython.com/python-dice-roll\n",
    "#         self.faces = {\n",
    "\n",
    "#             1: (\n",
    "\n",
    "#                 \"┌─────────┐\\n\"\n",
    "#                 \"│         │\\n\"\n",
    "#                 \"│    ●    │\\n\"\n",
    "#                 \"│         │\\n\"\n",
    "#                 \"└─────────┘\\n\"\n",
    "#             ),\n",
    "\n",
    "#             2: (\n",
    "\n",
    "#                 \"┌─────────┐\\n\"\n",
    "#                 \"│  ●      │\\n\"\n",
    "#                 \"│         │\\n\"\n",
    "#                 \"│      ●  │\\n\"\n",
    "#                 \"└─────────┘\"\n",
    "#             ),\n",
    "\n",
    "#             3: (\n",
    "\n",
    "#                 \"┌─────────┐\\n\"\n",
    "#                 \"│  ●      │\\n\"\n",
    "#                 \"│    ●    │\\n\"\n",
    "#                 \"│      ●  │\\n\"\n",
    "#                 \"└─────────┘\"\n",
    "#             ),\n",
    "\n",
    "#             4: (\n",
    "\n",
    "#                 \"┌─────────┐\\n\"\n",
    "#                 \"│  ●   ●  │\\n\"\n",
    "#                 \"│         │\\n\"\n",
    "#                 \"│  ●   ●  │\\n\"\n",
    "#                 \"└─────────┘\"\n",
    "\n",
    "#             ),\n",
    "\n",
    "#             5: (\n",
    "\n",
    "#                 \"┌─────────┐\\n\"\n",
    "#                 \"│  ●   ●  │\\n\"\n",
    "#                 \"│    ●    │\\n\"\n",
    "#                 \"│  ●   ●  │\\n\"\n",
    "#                 \"└─────────┘\"\n",
    "#             ),\n",
    "\n",
    "#             6: (\n",
    "\n",
    "#                 \"┌─────────┐\\n\"\n",
    "#                 \"│  ●   ●  │\\n\"\n",
    "#                 \"│  ●   ●  │\\n\"\n",
    "#                 \"│  ●   ●  │\\n\"\n",
    "#                 \"└─────────┘\"\n",
    "\n",
    "#             )\n",
    "\n",
    "#         }\n",
    "\n",
    "#     def getList(self):\n",
    "#         return list(self.values)\n",
    "\n",
    "#     def roll(self):\n",
    "#         self.number = random.choice(self.getList())\n",
    "#         self.history.append(self.number)  # Append rolled number to history list\n",
    "\n",
    "#     def getNumber(self):\n",
    "#         return self.number\n",
    "\n",
    "#     def show(self):        \n",
    "#         return str(self.faces.get(self.number))\n",
    "    \n",
    "#     def getHistory(self):\n",
    "#         return np.array(self.history)  # Convert history list to a NumPy array\n",
    "\n",
    "# def main():\n",
    "#     d = Dobbelsteen()\n",
    "#     d.roll()\n",
    "#     d.show()\n",
    "\n",
    "# if __name__ == main():\n",
    "#     main()                "
   ]
  },
  {
   "cell_type": "code",
   "execution_count": 11,
   "id": "dd73c18a",
   "metadata": {},
   "outputs": [
    {
     "name": "stdout",
     "output_type": "stream",
     "text": [
      "histD2 has type <class 'numpy.ndarray'> and d2_hist has type <class 'numpy.ndarray'>\n",
      "histD2 has a length of 1000 and d2_hist has a length of 1001\n"
     ]
    }
   ],
   "source": [
    "# determine the amount of loops\n",
    "\n",
    "rolls = 1000\n",
    "\n",
    "\n",
    "# create the loop\n",
    "for i in range(rolls):\n",
    "    d2.roll()\n",
    "    d3.roll()\n",
    "\n",
    "# get the history\n",
    "d2_hist = d2.getHistory()\n",
    "d3_hist = d3.getHistory()   \n",
    "\n",
    "# see if the types are correct and if the len is equal   \n",
    "print (f'histD2 has type {type(histD2)} and d2_hist has type {type(d2_hist)}') \n",
    "print (f'histD2 has a length of {len(histD2)} and d2_hist has a length of {len(d2_hist)}')\n",
    "\n",
    "\n",
    "histD2 = d2_hist\n",
    "histD3 = d3_hist "
   ]
  },
  {
   "cell_type": "code",
   "execution_count": 18,
   "id": "6d2bcf92",
   "metadata": {},
   "outputs": [
    {
     "name": "stdout",
     "output_type": "stream",
     "text": [
      "histD2 has type <class 'numpy.ndarray'> and d2_hist has type <class 'numpy.ndarray'>\n"
     ]
    }
   ],
   "source": [
    "print (f'histD2 has type {type(histD2)} and d2_hist has type {type(d2_hist)}')  \n",
    "histD2 = d2_hist\n",
    "histD3 = d3_hist "
   ]
  },
  {
   "cell_type": "code",
   "execution_count": 19,
   "id": "66cc9216",
   "metadata": {},
   "outputs": [],
   "source": [
    "histD2 = d2_hist\n",
    "histD3 = d3_hist "
   ]
  },
  {
   "cell_type": "code",
   "execution_count": 12,
   "id": "70ff2f75-ffd2-425a-af9e-0ae7e169bd99",
   "metadata": {},
   "outputs": [
    {
     "name": "stdout",
     "output_type": "stream",
     "text": [
      "d2 has 1001 items [4 6 5 ... 6 2 3], d3 has 1001 items [2 3 5 ... 4 2 6]\n"
     ]
    }
   ],
   "source": [
    "print(f'd2 has {len(d2_hist)} items {d2_hist}, d3 has {len(d3_hist)} items {d3_hist}')"
   ]
  },
  {
   "attachments": {},
   "cell_type": "markdown",
   "id": "c252c0ad-fcc1-4e19-8e5c-e5d210d603a9",
   "metadata": {},
   "source": [
    "<h3>Exercise 3b</h3>"
   ]
  },
  {
   "attachments": {},
   "cell_type": "markdown",
   "id": "e954f144-4cdf-487f-8ac3-dd81b82abd54",
   "metadata": {},
   "source": [
    "<h4>Gevraagd</h4>\n",
    "<p>\n",
    "    <ol>\n",
    "        <li>Maak een <u>numpy array histD2D3</u> waarin de uitkomsten van <i>d2</i> en <i>d3</i> paarsgewijs bij elkaar zijn opgeteld.<br> <strong>Hint</strong>: <i>histD2D3 = np.add(histD2, histD3)</i></li> \n",
    "        <li>Print van de modus van zowel histD2 als histD3</li>\n",
    "        <li>Vul onderstaande code aan een <u>histogram van histD2D3</u>.\n",
    "    </ol>\n",
    " </p>  "
   ]
  },
  {
   "cell_type": "code",
   "execution_count": 32,
   "id": "2a008910-462a-4df2-bc93-baf00bc09690",
   "metadata": {},
   "outputs": [
    {
     "name": "stdout",
     "output_type": "stream",
     "text": [
      "the modus of [ 6  9 10 ... 10  4  9] is [7] with a frequency of 181\n",
      "the modus of [4 6 5 ... 6 2 3] is [3] with a frequency of 180\n",
      "the modus of [2 3 5 ... 4 2 6] is [1] with a frequency of 179\n"
     ]
    },
    {
     "data": {
      "image/png": "[encoded data removed]",
      "text/plain": [
       "<Figure size 640x480 with 1 Axes>"
      ]
     },
     "metadata": {},
     "output_type": "display_data"
    }
   ],
   "source": [
    "# Oplossing\n",
    "histD2D3 = np.add(histD2,histD3)\n",
    "\n",
    "# calculate the amount of times each number is rolled\n",
    "def modusfinder(nparray):\n",
    "    occurence = {element:0 for element in nparray} \n",
    "    for item in nparray:\n",
    "        occurence[item] += 1\n",
    "    # determine the highest occurence\n",
    "    highest = max(occurence.values())\n",
    "    # determine the key of the highest occurence\n",
    "    modus = [key for key, value in occurence.items() if value == highest]   \n",
    "    print(f'the modus of {nparray} is {modus} with a frequency of {highest}')\n",
    "    return modus\n",
    "\n",
    "modusfinder(histD2D3)\n",
    "D2_modus = modusfinder(histD2)\n",
    "D3_modus = modusfinder(histD3)\n",
    "\n",
    "# create a histogram to show the distribution of the sum of the two dice\n",
    "plt.hist(histD2D3, bins=range(histD2D3.min(), histD2D3.max()+2))\n",
    "plt.title(\"Som van twee dobbelstenen\")\n",
    "plt.show()\n",
    "\n"
   ]
  }
 ],
 "metadata": {
  "kernelspec": {
   "display_name": "Python 3 (ipykernel)",
   "language": "python",
   "name": "python3"
  },
  "language_info": {
   "codemirror_mode": {
    "name": "ipython",
    "version": 3
   },
   "file_extension": ".py",
   "mimetype": "text/x-python",
   "name": "python",
   "nbconvert_exporter": "python",
   "pygments_lexer": "ipython3",
   "version": "3.10.9"
  },
  "vscode": {
   "interpreter": {
    "hash": "d02fac44709278d5f28054e7c5f80cc0816c38bd22abdc341a16741f693f9ad6"
   }
  }
 },
 "nbformat": 4,
 "nbformat_minor": 5
}
